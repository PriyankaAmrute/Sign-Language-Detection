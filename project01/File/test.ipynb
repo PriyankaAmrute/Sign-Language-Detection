{
 "cells": [
  {
   "cell_type": "code",
   "execution_count": null,
   "id": "9b23ccc5-c55a-4be9-b338-a49849da92d5",
   "metadata": {},
   "outputs": [],
   "source": [
    "import cv2\n",
    "import os\n",
    "from cvzone.HandTrackingModule import HandDetector\n",
    "from cvzone.ClassificationModule import Classifier\n",
    "cap=cv2.VideoCapture(0)\n",
    "import numpy as np\n",
    "import math\n",
    "import time\n",
    "detector=HandDetector(maxHands=1)\n",
    "classifier = Classifier(\"C:/Users/priya/OneDrive/Desktop/Priyanka/MAIN MINI PROJECT/project01/model/keras_model.h5\" , \"C:/Users/priya/OneDrive/Desktop/Priyanka/MAIN MINI PROJECT/project01/model/labels.txt\")\n",
    "\n",
    "                  \n",
    "offset=20\n",
    "imgSize=300\n",
    "\n",
    "\n",
    "##folder=\"project01/Data/C\"\n",
    "counter=0\n",
    "labels=[\"A\",\"B\",\"C\"]\n",
    "\n",
    "while True:\n",
    "    success,img=cap.read()\n",
    "    imgOutput=img.copy()\n",
    "    hands,img=detector.findHands(img)\n",
    "    try:\n",
    "        if hands:\n",
    "            hand=hands[0]\n",
    "            x,y,w,h=hand['bbox']\n",
    "            imgWhite=np.ones((imgSize,imgSize,3),np.uint8) * 255\n",
    "            imgCrop = img[y - offset:y + h + offset,x - offset:x + w + offset]\n",
    "            imgCropShape=imgCrop.shape\n",
    "            \n",
    "            aspectRatio=h/w\n",
    "            if aspectRatio>1:\n",
    "                k=imgSize/h\n",
    "                wCal=math.ceil(k*w)\n",
    "                imgResize=cv2.resize(imgCrop,(wCal,imgSize))\n",
    "                imgResizeShape=imgResize.shape\n",
    "                wGap=math.ceil((imgSize-wCal)/2)\n",
    "                imgWhite[:,wGap:wCal+wGap]=imgResize\n",
    "                prediction,index = classifier.getPrediction(imgWhite,draw=False)\n",
    "                print(prediction,index)\n",
    "                \n",
    "                \n",
    "            else:\n",
    "                k=imgSize/w\n",
    "                wCal=math.ceil(k*h)\n",
    "                imgResize=cv2.resize(imgCrop,(imgSize,wCal))\n",
    "                imgResizeShape=imgResize.shape\n",
    "                hGap=math.ceil((imgSize-hCal)/2)\n",
    "                imgWhite[hGap:hCal+hGap,:]=imgResize\n",
    "                prediction,index = classifier.getPrediction(imgWhite,draw=False)\n",
    "            \n",
    "            cv2.rectangle(imgOutput,(x-offset,y-offset-50),(x-offset+150,y-offset-50+50),(255,0,255),cv2.FILLED)\n",
    "            cv2.putText(imgOutput,labels[index],(x,y-26),cv2.FONT_HERSHEY_COMPLEX,2,(255,255,255),2)\n",
    "            cv2.rectangle(imgOutput,(x-offset,y-offset),(x+w+offset,y+h+offset),(255,0,255),4)\n",
    "            cv2.imshow(\"ImageCrop\",imgCrop)\n",
    "            cv2.imshow(\"ImageWhite\",imgWhite)\n",
    "    except:\n",
    "        pass\n",
    "    cv2.imshow(\"Image\",imgOutput)\n",
    "    cv2.waitKey(1)"
   ]
  },
  {
   "cell_type": "code",
   "execution_count": null,
   "id": "78e79308-9319-480a-9e00-11a0be6bc6f8",
   "metadata": {},
   "outputs": [],
   "source": []
  },
  {
   "cell_type": "code",
   "execution_count": null,
   "id": "f7a042ca-cdb2-4dcb-887d-c1b30dc0ea9f",
   "metadata": {},
   "outputs": [],
   "source": []
  },
  {
   "cell_type": "code",
   "execution_count": null,
   "id": "557d4d41-ac85-4a6c-81cb-8212c1ddf0e9",
   "metadata": {},
   "outputs": [],
   "source": []
  },
  {
   "cell_type": "code",
   "execution_count": null,
   "id": "6dfc6343-699f-43ee-b2ab-a29c9678ac69",
   "metadata": {},
   "outputs": [],
   "source": []
  },
  {
   "cell_type": "code",
   "execution_count": null,
   "id": "48918ac0-5a15-41b4-8061-8285dc16a4ff",
   "metadata": {},
   "outputs": [],
   "source": []
  }
 ],
 "metadata": {
  "kernelspec": {
   "display_name": "Python 3 (ipykernel)",
   "language": "python",
   "name": "python3"
  },
  "language_info": {
   "codemirror_mode": {
    "name": "ipython",
    "version": 3
   },
   "file_extension": ".py",
   "mimetype": "text/x-python",
   "name": "python",
   "nbconvert_exporter": "python",
   "pygments_lexer": "ipython3",
   "version": "3.9.13"
  }
 },
 "nbformat": 4,
 "nbformat_minor": 5
}
