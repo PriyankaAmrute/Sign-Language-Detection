{
 "cells": [
  {
   "cell_type": "code",
   "execution_count": null,
   "id": "18691230-aa09-479c-b107-08944b95b437",
   "metadata": {},
   "outputs": [],
   "source": [
    "import cv2\n",
    "from cvzone.HandTrackingModule import HandDetector\n",
    "cap=cv2.VideoCapture(0)\n",
    "import numpy as np\n",
    "import math\n",
    "import time\n",
    "detector=HandDetector(maxHands=1)\n",
    "offset=20\n",
    "imgSize=300\n",
    "\n",
    "\n",
    "folder=\"project01/Data/C\"\n",
    "counter=0\n",
    "\n",
    "while True:\n",
    "    success,img=cap.read()\n",
    "    hands,img=detector.findHands(img)\n",
    "    try:\n",
    "        if hands:\n",
    "            hand=hands[0]\n",
    "            x,y,w,h=hand['bbox']\n",
    "            imgWhite=np.ones((imgSize,imgSize,3),np.uint8) * 255\n",
    "            imgCrop = img[y - offset:y + h + offset,x - offset:x + w + offset]\n",
    "            imgCropShape=imgCrop.shape\n",
    "            \n",
    "            aspectRatio=h/w\n",
    "            if aspectRatio>1:\n",
    "                k=imgSize/h\n",
    "                wCal=math.ceil(k*w)\n",
    "                imgResize=cv2.resize(imgCrop,(wCal,imgSize))\n",
    "                imgResizeShape=imgResize.shape\n",
    "                wGap=math.ceil((imgSize-wCal)/2)\n",
    "                imgWhite[:,wGap:wCal+wGap]=imgResize\n",
    "            else:\n",
    "                k=imgSize/w\n",
    "                wCal=math.ceil(k*h)\n",
    "                imgResize=cv2.resize(imgCrop,(imgSize,wCal))\n",
    "                imgResizeShape=imgResize.shape\n",
    "                hGap=math.ceil((imgSize-hCal)/2)\n",
    "                imgWhite[hGap:hCal+hGap,:]=imgResize\n",
    "            \n",
    "            cv2.imshow(\"ImageCrop\",imgCrop)\n",
    "            cv2.imshow(\"ImageWhite\",imgWhite)\n",
    "    except:\n",
    "        pass\n",
    "    cv2.imshow(\"Image\",img)\n",
    "    key=cv2.waitKey(1)\n",
    "    if key==ord(\"s\"):\n",
    "        counter+=1\n",
    "        cv2.imwrite(f'{folder}/Image_{time.time()}.jpg',imgWhite)\n",
    "        print(counter)"
   ]
  },
  {
   "cell_type": "code",
   "execution_count": null,
   "id": "08a7e63d-3b35-4cb5-b609-a0aef1176297",
   "metadata": {},
   "outputs": [],
   "source": []
  }
 ],
 "metadata": {
  "kernelspec": {
   "display_name": "Python 3 (ipykernel)",
   "language": "python",
   "name": "python3"
  },
  "language_info": {
   "codemirror_mode": {
    "name": "ipython",
    "version": 3
   },
   "file_extension": ".py",
   "mimetype": "text/x-python",
   "name": "python",
   "nbconvert_exporter": "python",
   "pygments_lexer": "ipython3",
   "version": "3.10.7"
  }
 },
 "nbformat": 4,
 "nbformat_minor": 5
}
